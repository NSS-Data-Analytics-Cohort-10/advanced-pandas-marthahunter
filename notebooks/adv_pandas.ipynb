{
 "cells": [
  {
   "cell_type": "markdown",
   "id": "c30853cd",
   "metadata": {},
   "source": [
    "### In this exercise, you'll get to explore some additional features of the pandas library for cleaning and summarizing data. This will be done using the Nashville City Cemetery data."
   ]
  },
  {
   "cell_type": "markdown",
   "id": "86532443",
   "metadata": {},
   "source": [
    "#### As a reminder, you can get more information about the data that you were working with here: [Nashville City Cemetery Metadata](https://data.nashville.gov/api/views/diwx-fgj7/files/963c111e-2e2a-4133-a807-2becd590feb2?download=true&filename=Historic-Nashville-City-Cemetery-Interments-1846-1979-Metadata-v2.pdf).\n"
   ]
  },
  {
   "cell_type": "code",
   "execution_count": 1,
   "metadata": {},
   "outputs": [],
   "source": [
    "import pandas as pd\n",
    "import numpy as np\n",
    "import matplotlib.pyplot as plt\n",
    "import seaborn as sns"
   ]
  },
  {
   "cell_type": "markdown",
   "id": "fd20073b",
   "metadata": {},
   "source": [
    "1. **Read the City Cemetery data** into a pandas DataFrame. **Hint:** see the [`read_excel` function](https://pandas.pydata.org/docs/reference/api/pandas.read_excel.html)."
   ]
  },
  {
   "cell_type": "code",
   "execution_count": 4,
   "metadata": {},
   "outputs": [],
   "source": [
    "ap_df = pd.read_excel('../data/Historic_Nashville_City_Cemetery_Interments__1846-1979.xlsx')"
   ]
  },
  {
   "cell_type": "code",
   "execution_count": 5,
   "metadata": {},
   "outputs": [
    {
     "data": {
      "text/html": [
       "<div>\n",
       "<style scoped>\n",
       "    .dataframe tbody tr th:only-of-type {\n",
       "        vertical-align: middle;\n",
       "    }\n",
       "\n",
       "    .dataframe tbody tr th {\n",
       "        vertical-align: top;\n",
       "    }\n",
       "\n",
       "    .dataframe thead th {\n",
       "        text-align: right;\n",
       "    }\n",
       "</style>\n",
       "<table border=\"1\" class=\"dataframe\">\n",
       "  <thead>\n",
       "    <tr style=\"text-align: right;\">\n",
       "      <th></th>\n",
       "      <th>Volume</th>\n",
       "      <th>Name</th>\n",
       "      <th>Burial Month</th>\n",
       "      <th>Month No.</th>\n",
       "      <th>Burial Day</th>\n",
       "      <th>Burial Year</th>\n",
       "      <th>Sex</th>\n",
       "      <th>Race</th>\n",
       "      <th>Age</th>\n",
       "      <th>Residence</th>\n",
       "      <th>Cause of Death/Burial</th>\n",
       "      <th>Ave</th>\n",
       "      <th>Section/Lot</th>\n",
       "      <th>Remarks</th>\n",
       "    </tr>\n",
       "  </thead>\n",
       "  <tbody>\n",
       "    <tr>\n",
       "      <th>0</th>\n",
       "      <td>6B</td>\n",
       "      <td>Bell, Nancy Ann</td>\n",
       "      <td>Aug</td>\n",
       "      <td>8.0</td>\n",
       "      <td>6.0</td>\n",
       "      <td>1979.0</td>\n",
       "      <td>F</td>\n",
       "      <td>W</td>\n",
       "      <td>10.0</td>\n",
       "      <td>NaN</td>\n",
       "      <td>NaN</td>\n",
       "      <td>Oak</td>\n",
       "      <td>sec. 28 NW, lot 12</td>\n",
       "      <td>J. L. Hughes lot</td>\n",
       "    </tr>\n",
       "    <tr>\n",
       "      <th>1</th>\n",
       "      <td>6W</td>\n",
       "      <td>Drake, Mary Edith Smith, Mrs.</td>\n",
       "      <td>May</td>\n",
       "      <td>5.0</td>\n",
       "      <td>19.0</td>\n",
       "      <td>1979.0</td>\n",
       "      <td>F</td>\n",
       "      <td>W</td>\n",
       "      <td>67.0</td>\n",
       "      <td>Madison, Tenn</td>\n",
       "      <td>Cancer</td>\n",
       "      <td>Locust, Boyd Lot</td>\n",
       "      <td>lot 10</td>\n",
       "      <td>wife of Alex M. Drake, Madison Funeral Home Of...</td>\n",
       "    </tr>\n",
       "    <tr>\n",
       "      <th>2</th>\n",
       "      <td>6D</td>\n",
       "      <td>Davis, Bessie</td>\n",
       "      <td>Sep</td>\n",
       "      <td>9.0</td>\n",
       "      <td>19.0</td>\n",
       "      <td>1979.0</td>\n",
       "      <td>F</td>\n",
       "      <td>W</td>\n",
       "      <td>90.0</td>\n",
       "      <td>Nashville</td>\n",
       "      <td>Old Age</td>\n",
       "      <td>Poplar</td>\n",
       "      <td>McAllister, E25, lot 8</td>\n",
       "      <td>daughter of Helen Davis</td>\n",
       "    </tr>\n",
       "    <tr>\n",
       "      <th>3</th>\n",
       "      <td>6C</td>\n",
       "      <td>Creech, Emily Green</td>\n",
       "      <td>Aug</td>\n",
       "      <td>8.0</td>\n",
       "      <td>NaN</td>\n",
       "      <td>1978.0</td>\n",
       "      <td>F</td>\n",
       "      <td>W</td>\n",
       "      <td>91.0</td>\n",
       "      <td>Nashville</td>\n",
       "      <td>NaN</td>\n",
       "      <td>sect.ion 9</td>\n",
       "      <td>15</td>\n",
       "      <td>Magnolia</td>\n",
       "    </tr>\n",
       "    <tr>\n",
       "      <th>4</th>\n",
       "      <td>6W</td>\n",
       "      <td>Creech, Emily Green</td>\n",
       "      <td>Aug</td>\n",
       "      <td>8.0</td>\n",
       "      <td>NaN</td>\n",
       "      <td>1978.0</td>\n",
       "      <td>F</td>\n",
       "      <td>W</td>\n",
       "      <td>91.0</td>\n",
       "      <td>Nashville, Tennessee</td>\n",
       "      <td>NaN</td>\n",
       "      <td>NaN</td>\n",
       "      <td>NaN</td>\n",
       "      <td>Malgnolia</td>\n",
       "    </tr>\n",
       "  </tbody>\n",
       "</table>\n",
       "</div>"
      ],
      "text/plain": [
       "  Volume                           Name Burial Month  Month No.  Burial Day  \\\n",
       "0     6B                Bell, Nancy Ann          Aug        8.0         6.0   \n",
       "1     6W  Drake, Mary Edith Smith, Mrs.          May        5.0        19.0   \n",
       "2     6D                  Davis, Bessie          Sep        9.0        19.0   \n",
       "3     6C            Creech, Emily Green          Aug        8.0         NaN   \n",
       "4     6W            Creech, Emily Green          Aug        8.0         NaN   \n",
       "\n",
       "   Burial Year Sex Race   Age             Residence Cause of Death/Burial  \\\n",
       "0       1979.0   F    W  10.0                   NaN                   NaN   \n",
       "1       1979.0   F    W  67.0         Madison, Tenn                Cancer   \n",
       "2       1979.0   F    W  90.0             Nashville               Old Age   \n",
       "3       1978.0   F    W  91.0             Nashville                   NaN   \n",
       "4       1978.0   F    W  91.0  Nashville, Tennessee                   NaN   \n",
       "\n",
       "                Ave             Section/Lot  \\\n",
       "0               Oak      sec. 28 NW, lot 12   \n",
       "1  Locust, Boyd Lot                  lot 10   \n",
       "2            Poplar  McAllister, E25, lot 8   \n",
       "3        sect.ion 9                      15   \n",
       "4               NaN                     NaN   \n",
       "\n",
       "                                             Remarks  \n",
       "0                                   J. L. Hughes lot  \n",
       "1  wife of Alex M. Drake, Madison Funeral Home Of...  \n",
       "2                            daughter of Helen Davis  \n",
       "3                                           Magnolia  \n",
       "4                                          Malgnolia  "
      ]
     },
     "execution_count": 5,
     "metadata": {},
     "output_type": "execute_result"
    }
   ],
   "source": [
    "ap_df.head()"
   ]
  },
  {
   "cell_type": "code",
   "execution_count": 6,
   "metadata": {},
   "outputs": [
    {
     "data": {
      "text/html": [
       "<div>\n",
       "<style scoped>\n",
       "    .dataframe tbody tr th:only-of-type {\n",
       "        vertical-align: middle;\n",
       "    }\n",
       "\n",
       "    .dataframe tbody tr th {\n",
       "        vertical-align: top;\n",
       "    }\n",
       "\n",
       "    .dataframe thead th {\n",
       "        text-align: right;\n",
       "    }\n",
       "</style>\n",
       "<table border=\"1\" class=\"dataframe\">\n",
       "  <thead>\n",
       "    <tr style=\"text-align: right;\">\n",
       "      <th></th>\n",
       "      <th>Volume</th>\n",
       "      <th>Name</th>\n",
       "      <th>Burial Month</th>\n",
       "      <th>Month No.</th>\n",
       "      <th>Burial Day</th>\n",
       "      <th>Burial Year</th>\n",
       "      <th>Sex</th>\n",
       "      <th>Race</th>\n",
       "      <th>Age</th>\n",
       "      <th>Residence</th>\n",
       "      <th>Cause of Death/Burial</th>\n",
       "      <th>Ave</th>\n",
       "      <th>Section/Lot</th>\n",
       "      <th>Remarks</th>\n",
       "    </tr>\n",
       "  </thead>\n",
       "  <tbody>\n",
       "    <tr>\n",
       "      <th>19740</th>\n",
       "      <td>4-1846</td>\n",
       "      <td>Kingsley, A., Capt.</td>\n",
       "      <td>Sep</td>\n",
       "      <td>9.0</td>\n",
       "      <td>28.0</td>\n",
       "      <td>1846.0</td>\n",
       "      <td>M</td>\n",
       "      <td>W</td>\n",
       "      <td>67.0</td>\n",
       "      <td>City</td>\n",
       "      <td>Feever</td>\n",
       "      <td>Cedar</td>\n",
       "      <td>lot</td>\n",
       "      <td>superintendent of Nashville Cemetery</td>\n",
       "    </tr>\n",
       "    <tr>\n",
       "      <th>19741</th>\n",
       "      <td>4-1846</td>\n",
       "      <td>infant</td>\n",
       "      <td>Sep</td>\n",
       "      <td>9.0</td>\n",
       "      <td>28.0</td>\n",
       "      <td>1846.0</td>\n",
       "      <td>M</td>\n",
       "      <td>W</td>\n",
       "      <td>NaN</td>\n",
       "      <td>City</td>\n",
       "      <td>Diarherea</td>\n",
       "      <td>Central</td>\n",
       "      <td>lot</td>\n",
       "      <td>son of John Bateman</td>\n",
       "    </tr>\n",
       "    <tr>\n",
       "      <th>19742</th>\n",
       "      <td>4-1846</td>\n",
       "      <td>White, Lucinda</td>\n",
       "      <td>Sep</td>\n",
       "      <td>9.0</td>\n",
       "      <td>29.0</td>\n",
       "      <td>1846.0</td>\n",
       "      <td>F</td>\n",
       "      <td>W</td>\n",
       "      <td>25.0</td>\n",
       "      <td>City</td>\n",
       "      <td>Consumption</td>\n",
       "      <td>Central</td>\n",
       "      <td>200</td>\n",
       "      <td>Fees to be paid by M. Jennings</td>\n",
       "    </tr>\n",
       "    <tr>\n",
       "      <th>19743</th>\n",
       "      <td>5-1881</td>\n",
       "      <td>Higgins, Rebecca</td>\n",
       "      <td>Apr</td>\n",
       "      <td>4.0</td>\n",
       "      <td>10.0</td>\n",
       "      <td>NaN</td>\n",
       "      <td>F</td>\n",
       "      <td>W</td>\n",
       "      <td>68.0</td>\n",
       "      <td>City</td>\n",
       "      <td>Heart Disease</td>\n",
       "      <td>Cherry</td>\n",
       "      <td>lot</td>\n",
       "      <td>box paid, grave on lot</td>\n",
       "    </tr>\n",
       "    <tr>\n",
       "      <th>19744</th>\n",
       "      <td>5-1881</td>\n",
       "      <td>Eves, R.</td>\n",
       "      <td>Apr</td>\n",
       "      <td>4.0</td>\n",
       "      <td>25.0</td>\n",
       "      <td>NaN</td>\n",
       "      <td>M</td>\n",
       "      <td>W.</td>\n",
       "      <td>54.0</td>\n",
       "      <td>City</td>\n",
       "      <td>Heart Disease</td>\n",
       "      <td>Magnolia</td>\n",
       "      <td>lot</td>\n",
       "      <td>box paid, grave on lot</td>\n",
       "    </tr>\n",
       "  </tbody>\n",
       "</table>\n",
       "</div>"
      ],
      "text/plain": [
       "       Volume                 Name Burial Month  Month No.  Burial Day  \\\n",
       "19740  4-1846  Kingsley, A., Capt.          Sep        9.0        28.0   \n",
       "19741  4-1846               infant          Sep        9.0        28.0   \n",
       "19742  4-1846       White, Lucinda          Sep        9.0        29.0   \n",
       "19743  5-1881     Higgins, Rebecca          Apr        4.0        10.0   \n",
       "19744  5-1881             Eves, R.          Apr        4.0        25.0   \n",
       "\n",
       "       Burial Year Sex Race   Age Residence Cause of Death/Burial       Ave  \\\n",
       "19740       1846.0   M    W  67.0      City                Feever     Cedar   \n",
       "19741       1846.0   M    W   NaN      City             Diarherea   Central   \n",
       "19742       1846.0   F    W  25.0      City           Consumption   Central   \n",
       "19743          NaN   F    W  68.0      City         Heart Disease    Cherry   \n",
       "19744          NaN   M   W.  54.0      City         Heart Disease  Magnolia   \n",
       "\n",
       "      Section/Lot                               Remarks  \n",
       "19740         lot  superintendent of Nashville Cemetery  \n",
       "19741         lot                   son of John Bateman  \n",
       "19742         200        Fees to be paid by M. Jennings  \n",
       "19743         lot                box paid, grave on lot  \n",
       "19744         lot                box paid, grave on lot  "
      ]
     },
     "execution_count": 6,
     "metadata": {},
     "output_type": "execute_result"
    }
   ],
   "source": [
    "ap_df.tail()"
   ]
  },
  {
   "cell_type": "code",
   "execution_count": 7,
   "metadata": {},
   "outputs": [
    {
     "name": "stdout",
     "output_type": "stream",
     "text": [
      "<class 'pandas.core.frame.DataFrame'>\n",
      "RangeIndex: 19745 entries, 0 to 19744\n",
      "Data columns (total 14 columns):\n",
      " #   Column                 Non-Null Count  Dtype  \n",
      "---  ------                 --------------  -----  \n",
      " 0   Volume                 19745 non-null  object \n",
      " 1   Name                   19740 non-null  object \n",
      " 2   Burial Month           19706 non-null  object \n",
      " 3   Month No.              19706 non-null  float64\n",
      " 4   Burial Day             19691 non-null  float64\n",
      " 5   Burial Year            19743 non-null  float64\n",
      " 6   Sex                    19503 non-null  object \n",
      " 7   Race                   19698 non-null  object \n",
      " 8   Age                    11071 non-null  float64\n",
      " 9   Residence              19687 non-null  object \n",
      " 10  Cause of Death/Burial  19428 non-null  object \n",
      " 11  Ave                    19092 non-null  object \n",
      " 12  Section/Lot            18625 non-null  object \n",
      " 13  Remarks                16396 non-null  object \n",
      "dtypes: float64(4), object(10)\n",
      "memory usage: 2.1+ MB\n"
     ]
    }
   ],
   "source": [
    "ap_df.info()"
   ]
  },
  {
   "cell_type": "code",
   "execution_count": 8,
   "metadata": {},
   "outputs": [
    {
     "data": {
      "text/plain": [
       "Volume                      0\n",
       "Name                        5\n",
       "Burial Month               39\n",
       "Month No.                  39\n",
       "Burial Day                 54\n",
       "Burial Year                 2\n",
       "Sex                       242\n",
       "Race                       47\n",
       "Age                      8674\n",
       "Residence                  58\n",
       "Cause of Death/Burial     317\n",
       "Ave                       653\n",
       "Section/Lot              1120\n",
       "Remarks                  3349\n",
       "dtype: int64"
      ]
     },
     "execution_count": 8,
     "metadata": {},
     "output_type": "execute_result"
    }
   ],
   "source": [
    "ap_df.isna().sum()"
   ]
  },
  {
   "cell_type": "markdown",
   "id": "3c95a041",
   "metadata": {},
   "source": [
    "2. **Most Common Causes of Death.**  \n",
    "   a. Find the 10 most common (known) recorded causes of death.  \n",
    "   b. Clean up some of the misspellings. Use the [`replace` method](https://pandas.pydata.org/docs/reference/api/pandas.DataFrame.replace.html) to clean up some of the causes of death. For example, replace \"Cholrea\" with \"Cholera\" and \"Still Born\" with \"Stillborn\".   \n",
    "   **Bonus (Save For Last):** One method of detecting and correcting misspellings is fuzzy matching using metrics like [Levenshtein distance](https://en.wikipedia.org/wiki/Levenshtein_distance). Check out [thefuzz](https://github.com/seatgeek/thefuzz) a library that implements fuzzy matching and apply it to detect and correct misspellings.  \n",
    "   c. After correcting the spellings, find the 10 most common causes of death and create a bar chart to display your findings.  "
   ]
  },
  {
   "cell_type": "code",
   "execution_count": null,
   "metadata": {},
   "outputs": [],
   "source": []
  },
  {
   "cell_type": "markdown",
   "id": "e87cb365",
   "metadata": {},
   "source": [
    "3. **Create a line chart** showing the number of burials per year."
   ]
  },
  {
   "cell_type": "markdown",
   "id": "40623e19",
   "metadata": {},
   "source": [
    "4. **Burials per Month and Year**  \n",
    "    a. Use the [crosstab function](https://pandas.pydata.org/docs/reference/api/pandas.crosstab.html) to build a summary table showing the number of burials per year per month. You should have one row per year and one column for month.  \n",
    "    b. After creating this summary table, make sure that the year labels are integers (no decimal part) and that the columns are sorted correctly.  \n",
    "    c. Filter your table to show only the years 1846 through 1860.  \n",
    "    **Bonus** Display your table so that highlights any months that had over 100 burials. Hint: Look at styling in pandas: https://pandas.pydata.org/pandas-docs/version/1.0/user_guide/style.html  \n",
    "    d. Go back to your original DataFrame and filter to the year and month that had the largest number of burials. What are the most common causes of death for that month?"
   ]
  },
  {
   "cell_type": "markdown",
   "id": "6267b44f",
   "metadata": {},
   "source": [
    "5. **Burials per Decade**  \n",
    "    a. Create a \"Decade\" column to show the decade in which a burial occurred.    \n",
    "    b. Examine the burials per decade. Look at the total number of burials and the proportion (aka percentage) of male burials and female burials.  \n",
    "    c. Create a clustered bar chart to show how male and female burials have changed over time.\n"
   ]
  },
  {
   "cell_type": "markdown",
   "id": "fd2cf36f",
   "metadata": {},
   "source": [
    "### Bonus Questions"
   ]
  },
  {
   "cell_type": "markdown",
   "id": "d62cc399",
   "metadata": {},
   "source": [
    "6. **Burials per Age Group**  \n",
    "    a. Add a column to the original dataset to classify each row to one of the following categories (0-18, 19-25, 26-40, 41-64, and 65+). (Hint: One way to do this is using the [`cut` function](https://pandas.pydata.org/docs/reference/api/pandas.cut.html)).  \n",
    "    b. Create a \"Year Group\" dividing the records up based on burial year. Use the following groups: Before 1880, 1880-1900, 1901-1920, After 1920.  \n",
    "    c. Use a grouped bar chart to show how the proportion of burials per age group has changed over time. How would you describe the trends in terms of proportion of burials per age group over time?\n"
   ]
  },
  {
   "cell_type": "markdown",
   "id": "218b463a",
   "metadata": {},
   "source": [
    "7. **Last Names**  \n",
    "    a. Create a new column titled Last Name. Extract the last name from the Name column by subsetting to all characters to the left of the comma. (Hint: See the pandas [string split function](https://pandas.pydata.org/docs/reference/api/pandas.Series.str.split.html). When you do this, make sure to consider cases where the name does not contain a comma.  \n",
    "    b. What are the most common last names that appear?"
   ]
  },
  {
   "cell_type": "markdown",
   "id": "94577a10",
   "metadata": {},
   "source": [
    "8. **The Civil War ended in April, 1865, with the last full year of fighting occurring in 1864.**    \n",
    "   a. Create a new DataFrame, burials_1864 by subsetting the full data to the rows for 1864 burials.  \n",
    "   b. For any rows whose name contains the word \"infant\" (capitalized or lowercase), replace the \"Age\" value with 0.   \n",
    "   c. Create a new column called age_category. If the individual was age 0 put \"Infant\". If the individual was not an infant but under age 18, put \"Child\". Everyone aged 18 and above should be listed as \"Adult\".  \n",
    "   d.  Find the mean age for each age group.    \n",
    "   e.  Find the last infant to be buried in 1864. Two ways this could be accomplished are sorting by both the month number and burial day or by creating a date column (for example, by using the [`to_datetime` function](https://pandas.pydata.org/docs/reference/api/pandas.to_datetime.html) and then sorting by this date column."
   ]
  },
  {
   "cell_type": "code",
   "execution_count": null,
   "id": "b8ee9a43",
   "metadata": {},
   "outputs": [],
   "source": []
  }
 ],
 "metadata": {
  "kernelspec": {
   "display_name": "Python 3 (ipykernel)",
   "language": "python",
   "name": "python3"
  },
  "language_info": {
   "codemirror_mode": {
    "name": "ipython",
    "version": 3
   },
   "file_extension": ".py",
   "mimetype": "text/x-python",
   "name": "python",
   "nbconvert_exporter": "python",
   "pygments_lexer": "ipython3",
   "version": "3.11.5"
  }
 },
 "nbformat": 4,
 "nbformat_minor": 5
}
